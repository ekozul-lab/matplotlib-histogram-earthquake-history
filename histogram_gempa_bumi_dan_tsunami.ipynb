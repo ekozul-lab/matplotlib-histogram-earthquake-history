{
 "cells": [
  {
   "cell_type": "code",
   "execution_count": 1,
   "id": "0054db43",
   "metadata": {},
   "outputs": [
    {
     "data": {
      "text/html": [
       "<div>\n",
       "<style scoped>\n",
       "    .dataframe tbody tr th:only-of-type {\n",
       "        vertical-align: middle;\n",
       "    }\n",
       "\n",
       "    .dataframe tbody tr th {\n",
       "        vertical-align: top;\n",
       "    }\n",
       "\n",
       "    .dataframe thead th {\n",
       "        text-align: right;\n",
       "    }\n",
       "</style>\n",
       "<table border=\"1\" class=\"dataframe\">\n",
       "  <thead>\n",
       "    <tr style=\"text-align: right;\">\n",
       "      <th></th>\n",
       "      <th>Year</th>\n",
       "      <th>Tsu</th>\n",
       "      <th>Location Name</th>\n",
       "      <th>Latitude</th>\n",
       "      <th>Longitude</th>\n",
       "      <th>Focal Depth (km)</th>\n",
       "      <th>Mag</th>\n",
       "    </tr>\n",
       "  </thead>\n",
       "  <tbody>\n",
       "    <tr>\n",
       "      <th>0</th>\n",
       "      <td>1674</td>\n",
       "      <td>Terjadi Tsunami</td>\n",
       "      <td>INDONESIA:  AMBON ISLAND, SERAM ISLAND</td>\n",
       "      <td>-3.75</td>\n",
       "      <td>127.75</td>\n",
       "      <td>40</td>\n",
       "      <td>6.8</td>\n",
       "    </tr>\n",
       "    <tr>\n",
       "      <th>1</th>\n",
       "      <td>1815</td>\n",
       "      <td>Terjadi Tsunami</td>\n",
       "      <td>INDONESIA:  BALI</td>\n",
       "      <td>-8.00</td>\n",
       "      <td>115.00</td>\n",
       "      <td>150</td>\n",
       "      <td>7.0</td>\n",
       "    </tr>\n",
       "    <tr>\n",
       "      <th>2</th>\n",
       "      <td>1818</td>\n",
       "      <td>Terjadi Tsunami</td>\n",
       "      <td>INDONESIA:  SUMBAWA ISLAND:  BIMA</td>\n",
       "      <td>-7.00</td>\n",
       "      <td>117.00</td>\n",
       "      <td>600</td>\n",
       "      <td>8.5</td>\n",
       "    </tr>\n",
       "    <tr>\n",
       "      <th>3</th>\n",
       "      <td>1820</td>\n",
       "      <td>Terjadi Tsunami</td>\n",
       "      <td>INDONESIA:  SULAWESI:  MAKASAR</td>\n",
       "      <td>-7.00</td>\n",
       "      <td>119.00</td>\n",
       "      <td>80</td>\n",
       "      <td>7.5</td>\n",
       "    </tr>\n",
       "    <tr>\n",
       "      <th>4</th>\n",
       "      <td>1823</td>\n",
       "      <td>Terjadi Tsunami</td>\n",
       "      <td>INDONESIA:  JAVA</td>\n",
       "      <td>-6.50</td>\n",
       "      <td>108.50</td>\n",
       "      <td>150</td>\n",
       "      <td>6.8</td>\n",
       "    </tr>\n",
       "  </tbody>\n",
       "</table>\n",
       "</div>"
      ],
      "text/plain": [
       "   Year              Tsu                           Location Name  Latitude  \\\n",
       "0  1674  Terjadi Tsunami  INDONESIA:  AMBON ISLAND, SERAM ISLAND     -3.75   \n",
       "1  1815  Terjadi Tsunami                        INDONESIA:  BALI     -8.00   \n",
       "2  1818  Terjadi Tsunami       INDONESIA:  SUMBAWA ISLAND:  BIMA     -7.00   \n",
       "3  1820  Terjadi Tsunami          INDONESIA:  SULAWESI:  MAKASAR     -7.00   \n",
       "4  1823  Terjadi Tsunami                        INDONESIA:  JAVA     -6.50   \n",
       "\n",
       "   Longitude  Focal Depth (km)  Mag  \n",
       "0     127.75                40  6.8  \n",
       "1     115.00               150  7.0  \n",
       "2     117.00               600  8.5  \n",
       "3     119.00                80  7.5  \n",
       "4     108.50               150  6.8  "
      ]
     },
     "execution_count": 1,
     "metadata": {},
     "output_type": "execute_result"
    }
   ],
   "source": [
    "import numpy as np\n",
    "import pandas as pd\n",
    "import matplotlib.pyplot as plt\n",
    "\n",
    "#data lokasi gempa bumi indonesia\n",
    "gempa = pd.read_csv(\"data_gempa_indonesia2.csv\")\n",
    "gempa.head()"
   ]
  },
  {
   "cell_type": "code",
   "execution_count": 2,
   "id": "35f04401",
   "metadata": {},
   "outputs": [
    {
     "data": {
      "text/html": [
       "<div>\n",
       "<style scoped>\n",
       "    .dataframe tbody tr th:only-of-type {\n",
       "        vertical-align: middle;\n",
       "    }\n",
       "\n",
       "    .dataframe tbody tr th {\n",
       "        vertical-align: top;\n",
       "    }\n",
       "\n",
       "    .dataframe thead th {\n",
       "        text-align: right;\n",
       "    }\n",
       "</style>\n",
       "<table border=\"1\" class=\"dataframe\">\n",
       "  <thead>\n",
       "    <tr style=\"text-align: right;\">\n",
       "      <th></th>\n",
       "      <th>Year</th>\n",
       "      <th>Tsu</th>\n",
       "      <th>Location Name</th>\n",
       "      <th>Latitude</th>\n",
       "      <th>Longitude</th>\n",
       "      <th>Focal Depth (km)</th>\n",
       "      <th>Mag</th>\n",
       "    </tr>\n",
       "  </thead>\n",
       "  <tbody>\n",
       "    <tr>\n",
       "      <th>23</th>\n",
       "      <td>1905</td>\n",
       "      <td>Tidak Terjadi Tsunami</td>\n",
       "      <td>INDONESIA:  MINAHASSA PENINSULA</td>\n",
       "      <td>1.0</td>\n",
       "      <td>123.0</td>\n",
       "      <td>90</td>\n",
       "      <td>8.4</td>\n",
       "    </tr>\n",
       "    <tr>\n",
       "      <th>26</th>\n",
       "      <td>1907</td>\n",
       "      <td>Tidak Terjadi Tsunami</td>\n",
       "      <td>INDONESIA:  DJAILOLO GILOLO</td>\n",
       "      <td>1.0</td>\n",
       "      <td>127.0</td>\n",
       "      <td>200</td>\n",
       "      <td>7.9</td>\n",
       "    </tr>\n",
       "    <tr>\n",
       "      <th>32</th>\n",
       "      <td>1916</td>\n",
       "      <td>Tidak Terjadi Tsunami</td>\n",
       "      <td>INDONESIA:  NEW GUINEA:  IRIAN JAYA</td>\n",
       "      <td>-3.0</td>\n",
       "      <td>136.0</td>\n",
       "      <td>30</td>\n",
       "      <td>8.1</td>\n",
       "    </tr>\n",
       "    <tr>\n",
       "      <th>33</th>\n",
       "      <td>1916</td>\n",
       "      <td>Tidak Terjadi Tsunami</td>\n",
       "      <td>INDONESIA:  NEW GUINEA:  IRIAN JAYA</td>\n",
       "      <td>-3.0</td>\n",
       "      <td>135.5</td>\n",
       "      <td>16</td>\n",
       "      <td>8.1</td>\n",
       "    </tr>\n",
       "    <tr>\n",
       "      <th>34</th>\n",
       "      <td>1916</td>\n",
       "      <td>Tidak Terjadi Tsunami</td>\n",
       "      <td>INDONESIA:  JAVA</td>\n",
       "      <td>-9.0</td>\n",
       "      <td>113.0</td>\n",
       "      <td>100</td>\n",
       "      <td>7.3</td>\n",
       "    </tr>\n",
       "  </tbody>\n",
       "</table>\n",
       "</div>"
      ],
      "text/plain": [
       "    Year                    Tsu                        Location Name  \\\n",
       "23  1905  Tidak Terjadi Tsunami      INDONESIA:  MINAHASSA PENINSULA   \n",
       "26  1907  Tidak Terjadi Tsunami          INDONESIA:  DJAILOLO GILOLO   \n",
       "32  1916  Tidak Terjadi Tsunami  INDONESIA:  NEW GUINEA:  IRIAN JAYA   \n",
       "33  1916  Tidak Terjadi Tsunami  INDONESIA:  NEW GUINEA:  IRIAN JAYA   \n",
       "34  1916  Tidak Terjadi Tsunami                     INDONESIA:  JAVA   \n",
       "\n",
       "    Latitude  Longitude  Focal Depth (km)  Mag  \n",
       "23       1.0      123.0                90  8.4  \n",
       "26       1.0      127.0               200  7.9  \n",
       "32      -3.0      136.0                30  8.1  \n",
       "33      -3.0      135.5                16  8.1  \n",
       "34      -9.0      113.0               100  7.3  "
      ]
     },
     "execution_count": 2,
     "metadata": {},
     "output_type": "execute_result"
    }
   ],
   "source": [
    "#Tidak terjadi tsunami\n",
    "TidakTsunami = gempa[gempa[\"Tsu\"] == \"Tidak Terjadi Tsunami\"]\n",
    "TidakTsunami.head()"
   ]
  },
  {
   "cell_type": "code",
   "execution_count": 3,
   "id": "93dc1a55",
   "metadata": {},
   "outputs": [
    {
     "data": {
      "text/html": [
       "<div>\n",
       "<style scoped>\n",
       "    .dataframe tbody tr th:only-of-type {\n",
       "        vertical-align: middle;\n",
       "    }\n",
       "\n",
       "    .dataframe tbody tr th {\n",
       "        vertical-align: top;\n",
       "    }\n",
       "\n",
       "    .dataframe thead th {\n",
       "        text-align: right;\n",
       "    }\n",
       "</style>\n",
       "<table border=\"1\" class=\"dataframe\">\n",
       "  <thead>\n",
       "    <tr style=\"text-align: right;\">\n",
       "      <th></th>\n",
       "      <th>Year</th>\n",
       "      <th>Tsu</th>\n",
       "      <th>Location Name</th>\n",
       "      <th>Latitude</th>\n",
       "      <th>Longitude</th>\n",
       "      <th>Focal Depth (km)</th>\n",
       "      <th>Mag</th>\n",
       "    </tr>\n",
       "  </thead>\n",
       "  <tbody>\n",
       "    <tr>\n",
       "      <th>0</th>\n",
       "      <td>1674</td>\n",
       "      <td>Terjadi Tsunami</td>\n",
       "      <td>INDONESIA:  AMBON ISLAND, SERAM ISLAND</td>\n",
       "      <td>-3.75</td>\n",
       "      <td>127.75</td>\n",
       "      <td>40</td>\n",
       "      <td>6.8</td>\n",
       "    </tr>\n",
       "    <tr>\n",
       "      <th>1</th>\n",
       "      <td>1815</td>\n",
       "      <td>Terjadi Tsunami</td>\n",
       "      <td>INDONESIA:  BALI</td>\n",
       "      <td>-8.00</td>\n",
       "      <td>115.00</td>\n",
       "      <td>150</td>\n",
       "      <td>7.0</td>\n",
       "    </tr>\n",
       "    <tr>\n",
       "      <th>2</th>\n",
       "      <td>1818</td>\n",
       "      <td>Terjadi Tsunami</td>\n",
       "      <td>INDONESIA:  SUMBAWA ISLAND:  BIMA</td>\n",
       "      <td>-7.00</td>\n",
       "      <td>117.00</td>\n",
       "      <td>600</td>\n",
       "      <td>8.5</td>\n",
       "    </tr>\n",
       "    <tr>\n",
       "      <th>3</th>\n",
       "      <td>1820</td>\n",
       "      <td>Terjadi Tsunami</td>\n",
       "      <td>INDONESIA:  SULAWESI:  MAKASAR</td>\n",
       "      <td>-7.00</td>\n",
       "      <td>119.00</td>\n",
       "      <td>80</td>\n",
       "      <td>7.5</td>\n",
       "    </tr>\n",
       "    <tr>\n",
       "      <th>4</th>\n",
       "      <td>1823</td>\n",
       "      <td>Terjadi Tsunami</td>\n",
       "      <td>INDONESIA:  JAVA</td>\n",
       "      <td>-6.50</td>\n",
       "      <td>108.50</td>\n",
       "      <td>150</td>\n",
       "      <td>6.8</td>\n",
       "    </tr>\n",
       "  </tbody>\n",
       "</table>\n",
       "</div>"
      ],
      "text/plain": [
       "   Year              Tsu                           Location Name  Latitude  \\\n",
       "0  1674  Terjadi Tsunami  INDONESIA:  AMBON ISLAND, SERAM ISLAND     -3.75   \n",
       "1  1815  Terjadi Tsunami                        INDONESIA:  BALI     -8.00   \n",
       "2  1818  Terjadi Tsunami       INDONESIA:  SUMBAWA ISLAND:  BIMA     -7.00   \n",
       "3  1820  Terjadi Tsunami          INDONESIA:  SULAWESI:  MAKASAR     -7.00   \n",
       "4  1823  Terjadi Tsunami                        INDONESIA:  JAVA     -6.50   \n",
       "\n",
       "   Longitude  Focal Depth (km)  Mag  \n",
       "0     127.75                40  6.8  \n",
       "1     115.00               150  7.0  \n",
       "2     117.00               600  8.5  \n",
       "3     119.00                80  7.5  \n",
       "4     108.50               150  6.8  "
      ]
     },
     "execution_count": 3,
     "metadata": {},
     "output_type": "execute_result"
    }
   ],
   "source": [
    "#Terjadi tsunami\n",
    "TerjadiTsunami = gempa[gempa[\"Tsu\"] == \"Terjadi Tsunami\"]\n",
    "TerjadiTsunami.head()"
   ]
  },
  {
   "cell_type": "code",
   "execution_count": 4,
   "id": "18165611",
   "metadata": {},
   "outputs": [
    {
     "data": {
      "text/plain": [
       "0      6.8\n",
       "1      7.0\n",
       "2      8.5\n",
       "3      7.5\n",
       "4      6.8\n",
       "      ... \n",
       "266    6.2\n",
       "267    6.0\n",
       "268    5.8\n",
       "269    5.5\n",
       "270    5.1\n",
       "Name: Mag, Length: 271, dtype: float64"
      ]
     },
     "execution_count": 4,
     "metadata": {},
     "output_type": "execute_result"
    }
   ],
   "source": [
    "#menampilkan hanya kolom magnitudo gempa\n",
    "gempaMag = gempa[\"Mag\"]\n",
    "gempaMag"
   ]
  },
  {
   "cell_type": "code",
   "execution_count": 5,
   "id": "5930e92e",
   "metadata": {},
   "outputs": [
    {
     "data": {
      "image/png": "[encoded data removed]",
      "text/plain": [
       "<Figure size 432x288 with 1 Axes>"
      ]
     },
     "metadata": {
      "needs_background": "light"
     },
     "output_type": "display_data"
    }
   ],
   "source": [
    "#membuat dan menampilkan histogram terjadinya gempa bumi terhadap magnitudo\n",
    "plt.hist(gempaMag)\n",
    "plt.show()"
   ]
  },
  {
   "cell_type": "code",
   "execution_count": 6,
   "id": "bb542de8",
   "metadata": {},
   "outputs": [
    {
     "data": {
      "text/plain": [
       "0      6.8\n",
       "1      7.0\n",
       "2      8.5\n",
       "3      7.5\n",
       "4      6.8\n",
       "      ... \n",
       "247    6.9\n",
       "249    6.3\n",
       "252    7.5\n",
       "263    7.1\n",
       "268    5.8\n",
       "Name: Mag, Length: 97, dtype: float64"
      ]
     },
     "execution_count": 6,
     "metadata": {},
     "output_type": "execute_result"
    }
   ],
   "source": [
    "#magnitudo yang terjadi tsunami\n",
    "TerjadiTsunamiMag = TerjadiTsunami[\"Mag\"]\n",
    "TerjadiTsunamiMag"
   ]
  },
  {
   "cell_type": "code",
   "execution_count": 7,
   "id": "e6b499af",
   "metadata": {},
   "outputs": [
    {
     "data": {
      "image/png": "[encoded data removed]",
      "text/plain": [
       "<Figure size 432x288 with 1 Axes>"
      ]
     },
     "metadata": {
      "needs_background": "light"
     },
     "output_type": "display_data"
    }
   ],
   "source": [
    "#membuat dan menampilkan histogram magnitudo yang terjadi tsunami\n",
    "plt.hist(TerjadiTsunamiMag)\n",
    "plt.show()"
   ]
  },
  {
   "cell_type": "code",
   "execution_count": 21,
   "id": "1c544ed8",
   "metadata": {},
   "outputs": [
    {
     "data": {
      "text/plain": [
       "(array([ 0.,  5., 30., 46., 15.,  1.]),\n",
       " array([ 4,  5,  6,  7,  8,  9, 10]),\n",
       " <BarContainer object of 6 artists>)"
      ]
     },
     "execution_count": 21,
     "metadata": {},
     "output_type": "execute_result"
    },
    {
     "data": {
      "image/png": "[encoded data removed]",
      "text/plain": [
       "<Figure size 432x288 with 1 Axes>"
      ]
     },
     "metadata": {
      "needs_background": "light"
     },
     "output_type": "display_data"
    }
   ],
   "source": [
    "#histogram dengan dibuat rentang data untuk Mag\n",
    "plt.hist(TerjadiTsunami [\"Mag\"], [4, 5, 6, 7, 8, 9, 10])"
   ]
  },
  {
   "cell_type": "code",
   "execution_count": 18,
   "id": "b00e3719",
   "metadata": {},
   "outputs": [
    {
     "data": {
      "text/plain": [
       "0       40\n",
       "1      150\n",
       "2      600\n",
       "3       80\n",
       "4      150\n",
       "      ... \n",
       "266     18\n",
       "267     82\n",
       "268     10\n",
       "269      8\n",
       "270     10\n",
       "Name: Focal Depth (km), Length: 271, dtype: int64"
      ]
     },
     "execution_count": 18,
     "metadata": {},
     "output_type": "execute_result"
    }
   ],
   "source": [
    "#memilih hanya kolom kedalaman gempa bumi\n",
    "gempaDepth = gempa[\"Focal Depth (km)\"]\n",
    "gempaDepth"
   ]
  },
  {
   "cell_type": "code",
   "execution_count": 19,
   "id": "1aeba545",
   "metadata": {},
   "outputs": [
    {
     "data": {
      "image/png": "[encoded data removed]",
      "text/plain": [
       "<Figure size 432x288 with 1 Axes>"
      ]
     },
     "metadata": {
      "needs_background": "light"
     },
     "output_type": "display_data"
    }
   ],
   "source": [
    "#menampilkan histogram kedalaman pusat gempa bumi\n",
    "plt.hist(gempaDepth)\n",
    "plt.show()"
   ]
  },
  {
   "cell_type": "code",
   "execution_count": 10,
   "id": "1cc7079e",
   "metadata": {},
   "outputs": [
    {
     "data": {
      "text/plain": [
       "0       40\n",
       "1      150\n",
       "2      600\n",
       "3       80\n",
       "4      150\n",
       "      ... \n",
       "247     34\n",
       "249     16\n",
       "252     20\n",
       "263     33\n",
       "268     10\n",
       "Name: Focal Depth (km), Length: 97, dtype: int64"
      ]
     },
     "execution_count": 10,
     "metadata": {},
     "output_type": "execute_result"
    }
   ],
   "source": [
    "#menampilkan kedalaman pusat gempa yang terjadi tsunami\n",
    "TerjadiTsunamiDepth = TerjadiTsunami[\"Focal Depth (km)\"]\n",
    "TerjadiTsunamiDepth"
   ]
  },
  {
   "cell_type": "code",
   "execution_count": 11,
   "id": "346edf88",
   "metadata": {},
   "outputs": [
    {
     "data": {
      "image/png": "[encoded data removed]",
      "text/plain": [
       "<Figure size 432x288 with 1 Axes>"
      ]
     },
     "metadata": {
      "needs_background": "light"
     },
     "output_type": "display_data"
    }
   ],
   "source": [
    "#membuat dan menampilkan histogram kedalaman gempa yang terjadi tsunami\n",
    "plt.hist(TerjadiTsunamiDepth)\n",
    "plt.show()"
   ]
  },
  {
   "cell_type": "code",
   "execution_count": 20,
   "id": "3a0db1ef",
   "metadata": {},
   "outputs": [
    {
     "data": {
      "text/plain": [
       "(array([65., 17.,  7.,  5.,  1.,  0.]),\n",
       " array([1.0e-03, 5.0e+01, 1.0e+02, 1.5e+02, 2.0e+02, 2.5e+02, 3.0e+02]),\n",
       " <BarContainer object of 6 artists>)"
      ]
     },
     "execution_count": 20,
     "metadata": {},
     "output_type": "execute_result"
    },
    {
     "data": {
      "image/png": "[encoded data removed]",
      "text/plain": [
       "<Figure size 432x288 with 1 Axes>"
      ]
     },
     "metadata": {
      "needs_background": "light"
     },
     "output_type": "display_data"
    }
   ],
   "source": [
    "#histogram dengan dibuat rentang data pada Focal Depth (km)\n",
    "plt.hist(TerjadiTsunami[\"Focal Depth (km)\"], [0.001, 50, 100, 150, 200, 250, 300])"
   ]
  },
  {
   "cell_type": "code",
   "execution_count": null,
   "id": "7ccebc87",
   "metadata": {},
   "outputs": [],
   "source": []
  }
 ],
 "metadata": {
  "kernelspec": {
   "display_name": "Python 3 (ipykernel)",
   "language": "python",
   "name": "python3"
  },
  "language_info": {
   "codemirror_mode": {
    "name": "ipython",
    "version": 3
   },
   "file_extension": ".py",
   "mimetype": "text/x-python",
   "name": "python",
   "nbconvert_exporter": "python",
   "pygments_lexer": "ipython3",
   "version": "3.9.6"
  }
 },
 "nbformat": 4,
 "nbformat_minor": 5
}
